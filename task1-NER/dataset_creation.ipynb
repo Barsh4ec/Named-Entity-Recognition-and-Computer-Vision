{
 "cells": [
  {
   "cell_type": "markdown",
   "source": [
    "## Import requred libraries"
   ],
   "metadata": {
    "collapsed": false
   },
   "id": "4c5647753fa4f9bf"
  },
  {
   "cell_type": "code",
   "execution_count": 1,
   "id": "initial_id",
   "metadata": {
    "collapsed": true,
    "ExecuteTime": {
     "end_time": "2023-11-27T09:07:09.533619400Z",
     "start_time": "2023-11-27T09:07:08.928197600Z"
    }
   },
   "outputs": [],
   "source": [
    "import pandas as pd\n",
    "import numpy as np\n",
    "import ast"
   ]
  },
  {
   "cell_type": "markdown",
   "source": [
    "## Extract data from dataset\n",
    "### https://www.kaggle.com/datasets/geraygench/mountain-ner-dataset/"
   ],
   "metadata": {
    "collapsed": false
   },
   "id": "497a7f7d9f23f908"
  },
  {
   "cell_type": "code",
   "execution_count": 3,
   "outputs": [],
   "source": [
    "mountains_data = pd.read_csv(\"mountain_dataset_with_markup.csv\")"
   ],
   "metadata": {
    "collapsed": false,
    "ExecuteTime": {
     "end_time": "2023-11-27T09:07:35.118700Z",
     "start_time": "2023-11-27T09:07:35.085126500Z"
    }
   },
   "id": "2c58fad5186c6"
  },
  {
   "cell_type": "markdown",
   "source": [
    "## Cleaning marker data"
   ],
   "metadata": {
    "collapsed": false
   },
   "id": "fc2e5c93ca163861"
  },
  {
   "cell_type": "code",
   "execution_count": 4,
   "outputs": [
    {
     "data": {
      "text/plain": "                                                   text      marker\n0     A visit to a science museum for hands-on learn...         NaN\n1     Voice surface coach set democratic time year. ...         NaN\n2     Parent according maybe activity activity finis...         NaN\n3     A visit to a sculpture garden with intriguing ...         NaN\n4     The Julian Alps in Slovenia offer pristine lak...  [(11, 15)]\n...                                                 ...         ...\n1579  They never audience meet. Appear region allow ...         NaN\n1580  Witnessing the mesmerizing Northern Lights dan...  [(75, 97)]\n1581  Consumer join stage. Best likely center they p...         NaN\n1582  Hospital real school cover hotel over. Any tra...         NaN\n1583  A brilliant pass from the midfielder sets up a...         NaN\n\n[1584 rows x 2 columns]",
      "text/html": "<div>\n<style scoped>\n    .dataframe tbody tr th:only-of-type {\n        vertical-align: middle;\n    }\n\n    .dataframe tbody tr th {\n        vertical-align: top;\n    }\n\n    .dataframe thead th {\n        text-align: right;\n    }\n</style>\n<table border=\"1\" class=\"dataframe\">\n  <thead>\n    <tr style=\"text-align: right;\">\n      <th></th>\n      <th>text</th>\n      <th>marker</th>\n    </tr>\n  </thead>\n  <tbody>\n    <tr>\n      <th>0</th>\n      <td>A visit to a science museum for hands-on learn...</td>\n      <td>NaN</td>\n    </tr>\n    <tr>\n      <th>1</th>\n      <td>Voice surface coach set democratic time year. ...</td>\n      <td>NaN</td>\n    </tr>\n    <tr>\n      <th>2</th>\n      <td>Parent according maybe activity activity finis...</td>\n      <td>NaN</td>\n    </tr>\n    <tr>\n      <th>3</th>\n      <td>A visit to a sculpture garden with intriguing ...</td>\n      <td>NaN</td>\n    </tr>\n    <tr>\n      <th>4</th>\n      <td>The Julian Alps in Slovenia offer pristine lak...</td>\n      <td>[(11, 15)]</td>\n    </tr>\n    <tr>\n      <th>...</th>\n      <td>...</td>\n      <td>...</td>\n    </tr>\n    <tr>\n      <th>1579</th>\n      <td>They never audience meet. Appear region allow ...</td>\n      <td>NaN</td>\n    </tr>\n    <tr>\n      <th>1580</th>\n      <td>Witnessing the mesmerizing Northern Lights dan...</td>\n      <td>[(75, 97)]</td>\n    </tr>\n    <tr>\n      <th>1581</th>\n      <td>Consumer join stage. Best likely center they p...</td>\n      <td>NaN</td>\n    </tr>\n    <tr>\n      <th>1582</th>\n      <td>Hospital real school cover hotel over. Any tra...</td>\n      <td>NaN</td>\n    </tr>\n    <tr>\n      <th>1583</th>\n      <td>A brilliant pass from the midfielder sets up a...</td>\n      <td>NaN</td>\n    </tr>\n  </tbody>\n</table>\n<p>1584 rows × 2 columns</p>\n</div>"
     },
     "execution_count": 4,
     "metadata": {},
     "output_type": "execute_result"
    }
   ],
   "source": [
    "mountains_data[\"marker\"] = mountains_data[\"marker\"].apply(ast.literal_eval)\n",
    "mountains_data[\"marker\"] = mountains_data[\"marker\"].apply(lambda x: np.nan if len(x)==0 else x)\n",
    "mountains_data"
   ],
   "metadata": {
    "collapsed": false,
    "ExecuteTime": {
     "end_time": "2023-11-27T09:07:42.146281800Z",
     "start_time": "2023-11-27T09:07:42.098965200Z"
    }
   },
   "id": "15c95a69610efb0c"
  },
  {
   "cell_type": "markdown",
   "source": [
    "## Preparing labels"
   ],
   "metadata": {
    "collapsed": false
   },
   "id": "b002c84131b3a2ac"
  },
  {
   "cell_type": "code",
   "execution_count": 5,
   "outputs": [
    {
     "data": {
      "text/plain": "                                                   text      marker  \\\n0     A visit to a science museum for hands-on learn...         NaN   \n1     Voice surface coach set democratic time year. ...         NaN   \n2     Parent according maybe activity activity finis...         NaN   \n3     A visit to a sculpture garden with intriguing ...         NaN   \n4     The Julian Alps in Slovenia offer pristine lak...  [(11, 15)]   \n...                                                 ...         ...   \n1579  They never audience meet. Appear region allow ...         NaN   \n1580  Witnessing the mesmerizing Northern Lights dan...  [(75, 97)]   \n1581  Consumer join stage. Best likely center they p...         NaN   \n1582  Hospital real school cover hotel over. Any tra...         NaN   \n1583  A brilliant pass from the midfielder sets up a...         NaN   \n\n                                     labels  \n0                         O O O O O O O O O  \n1       O O O O O O O O O O O O O O O O O O  \n2           O O O O O O O O O O O O O O O O  \n3                         O O O O O O O O O  \n4                 O O B-geo O O O O O O O O  \n...                                     ...  \n1579                  O O O O O O O O O O O  \n1580  O O O O O O O O O O O B-geo I-geo O O  \n1581      O O O O O O O O O O O O O O O O O  \n1582                  O O O O O O O O O O O  \n1583            O O O O O O O O O O O O O O  \n\n[1584 rows x 3 columns]",
      "text/html": "<div>\n<style scoped>\n    .dataframe tbody tr th:only-of-type {\n        vertical-align: middle;\n    }\n\n    .dataframe tbody tr th {\n        vertical-align: top;\n    }\n\n    .dataframe thead th {\n        text-align: right;\n    }\n</style>\n<table border=\"1\" class=\"dataframe\">\n  <thead>\n    <tr style=\"text-align: right;\">\n      <th></th>\n      <th>text</th>\n      <th>marker</th>\n      <th>labels</th>\n    </tr>\n  </thead>\n  <tbody>\n    <tr>\n      <th>0</th>\n      <td>A visit to a science museum for hands-on learn...</td>\n      <td>NaN</td>\n      <td>O O O O O O O O O</td>\n    </tr>\n    <tr>\n      <th>1</th>\n      <td>Voice surface coach set democratic time year. ...</td>\n      <td>NaN</td>\n      <td>O O O O O O O O O O O O O O O O O O</td>\n    </tr>\n    <tr>\n      <th>2</th>\n      <td>Parent according maybe activity activity finis...</td>\n      <td>NaN</td>\n      <td>O O O O O O O O O O O O O O O O</td>\n    </tr>\n    <tr>\n      <th>3</th>\n      <td>A visit to a sculpture garden with intriguing ...</td>\n      <td>NaN</td>\n      <td>O O O O O O O O O</td>\n    </tr>\n    <tr>\n      <th>4</th>\n      <td>The Julian Alps in Slovenia offer pristine lak...</td>\n      <td>[(11, 15)]</td>\n      <td>O O B-geo O O O O O O O O</td>\n    </tr>\n    <tr>\n      <th>...</th>\n      <td>...</td>\n      <td>...</td>\n      <td>...</td>\n    </tr>\n    <tr>\n      <th>1579</th>\n      <td>They never audience meet. Appear region allow ...</td>\n      <td>NaN</td>\n      <td>O O O O O O O O O O O</td>\n    </tr>\n    <tr>\n      <th>1580</th>\n      <td>Witnessing the mesmerizing Northern Lights dan...</td>\n      <td>[(75, 97)]</td>\n      <td>O O O O O O O O O O O B-geo I-geo O O</td>\n    </tr>\n    <tr>\n      <th>1581</th>\n      <td>Consumer join stage. Best likely center they p...</td>\n      <td>NaN</td>\n      <td>O O O O O O O O O O O O O O O O O</td>\n    </tr>\n    <tr>\n      <th>1582</th>\n      <td>Hospital real school cover hotel over. Any tra...</td>\n      <td>NaN</td>\n      <td>O O O O O O O O O O O</td>\n    </tr>\n    <tr>\n      <th>1583</th>\n      <td>A brilliant pass from the midfielder sets up a...</td>\n      <td>NaN</td>\n      <td>O O O O O O O O O O O O O O</td>\n    </tr>\n  </tbody>\n</table>\n<p>1584 rows × 3 columns</p>\n</div>"
     },
     "execution_count": 5,
     "metadata": {},
     "output_type": "execute_result"
    }
   ],
   "source": [
    "def create_labels(row):\n",
    "    text = row[\"text\"].split()\n",
    "    labels = [\"O\"] * len(text)\n",
    "    words = []\n",
    "    if isinstance(row[\"marker\"], list):\n",
    "        for marker in row[\"marker\"]:\n",
    "            words.extend(row[\"text\"][marker[0]:marker[1]].split())\n",
    "    \n",
    "        words = list(set(words))\n",
    "        first = True\n",
    "        for index, word in enumerate(text):\n",
    "            if word in words:\n",
    "                if first:\n",
    "                    labels[index] = \"B-geo\"\n",
    "                    first = False\n",
    "                else:\n",
    "                    labels[index] = \"I-geo\"\n",
    "    \n",
    "    return \" \".join(labels)\n",
    "\n",
    "\n",
    "mountains_data[\"labels\"] = mountains_data.apply(create_labels, axis=1)\n",
    "    \n",
    "mountains_data"
   ],
   "metadata": {
    "collapsed": false,
    "ExecuteTime": {
     "end_time": "2023-11-27T09:08:40.010055200Z",
     "start_time": "2023-11-27T09:08:39.963007100Z"
    }
   },
   "id": "d08bcc8736a7c047"
  },
  {
   "cell_type": "markdown",
   "source": [
    "## Saving dataset"
   ],
   "metadata": {
    "collapsed": false
   },
   "id": "646bfed5364e6140"
  },
  {
   "cell_type": "code",
   "execution_count": 7,
   "outputs": [],
   "source": [
    "mountains_data.to_csv(\"labeled_mountains_dataset.csv\", index=False)"
   ],
   "metadata": {
    "collapsed": false,
    "ExecuteTime": {
     "end_time": "2023-11-27T09:11:42.668564300Z",
     "start_time": "2023-11-27T09:11:42.636741600Z"
    }
   },
   "id": "31ff63e4c81a0021"
  }
 ],
 "metadata": {
  "kernelspec": {
   "display_name": "Python 3",
   "language": "python",
   "name": "python3"
  },
  "language_info": {
   "codemirror_mode": {
    "name": "ipython",
    "version": 2
   },
   "file_extension": ".py",
   "mimetype": "text/x-python",
   "name": "python",
   "nbconvert_exporter": "python",
   "pygments_lexer": "ipython2",
   "version": "2.7.6"
  }
 },
 "nbformat": 4,
 "nbformat_minor": 5
}
